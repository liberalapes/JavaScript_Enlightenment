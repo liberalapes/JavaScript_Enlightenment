{
 "cells": [
  {
   "cell_type": "markdown",
   "metadata": {},
   "source": [
    "# 자바스크립트를 깨우치다"
   ]
  },
  {
   "cell_type": "markdown",
   "metadata": {},
   "source": [
    "## Chapter 1. 자바스크립트 객체 "
   ]
  },
  {
   "cell_type": "markdown",
   "metadata": {},
   "source": [
    "### 객체 만들기"
   ]
  },
  {
   "cell_type": "markdown",
   "metadata": {},
   "source": [
    "<table style=\"width:400px\">\n",
    "    <thead>\n",
    "        <tr>\n",
    "            <th colspan = \"2\">코디(cody)</th>\n",
    "        </tr>\n",
    "        <tr>\n",
    "            <th>속성</th>\n",
    "            <th>속성값</th>\n",
    "        </tr>\n",
    "    </thead>\n",
    "    <tbody>\n",
    "        <tr>\n",
    "            <td>살아있음(living)</td>\n",
    "            <td>참(true)</td>\n",
    "        </tr>\n",
    "        <tr>\n",
    "            <td>나이(age)</td>\n",
    "            <td>33</td>\n",
    "        </tr>\n",
    "        <tr>\n",
    "            <td>성별(gender)</td>\n",
    "            <td>남성(male)</td>\n",
    "        </tr>\n",
    "    </tbody>\n",
    "</table> "
   ]
  },
  {
   "cell_type": "code",
   "execution_count": null,
   "metadata": {},
   "outputs": [],
   "source": [
    "# var cody = new Object();\n",
    "\n",
    "cody.living = true;\n",
    "cody.age = 33;\n",
    "cody.gender = 'male';\n",
    "\n",
    "console.log(cody); "
   ]
  },
  {
   "cell_type": "code",
   "execution_count": null,
   "metadata": {},
   "outputs": [],
   "source": [
    "cody.getGender = function() {return condy.gender;};\n",
    "\n",
    "function () {return cody.gender;};\n",
    "\n",
    "console.log(cody); "
   ]
  },
  {
   "cell_type": "code",
   "execution_count": null,
   "metadata": {},
   "outputs": [],
   "source": [
    "var myObject = new Object();\n",
    "myObject['0'] = 'f';\n",
    "myObject['1'] = 'o';\n",
    "myObject['2'] = 'o';\n",
    "\n",
    "console.log(myObject);\n",
    "\n",
    "var myString = new String('foo');\n",
    "\n",
    "console.log(myString);"
   ]
  },
  {
   "cell_type": "code",
   "execution_count": null,
   "metadata": {},
   "outputs": [],
   "source": [
    "var person = function(living, age, gender) {\n",
    "  this.living = living;\n",
    "  this.age = age;\n",
    "  this.gender = gender;\n",
    "  this.getGender = function() {return this.gender;};\n",
    "};\n",
    "\n",
    "var cody = new person(true, 33, 'male');\n",
    "\n",
    "console.log(cody);\n",
    "\n",
    "\n",
    "var myString = new String('foo');\n",
    "\n",
    "console.log(myString);"
   ]
  },
  {
   "cell_type": "code",
   "execution_count": null,
   "metadata": {},
   "outputs": [],
   "source": [
    "var codyA = new Object();\n",
    "\n",
    "codyA.living = true;\n",
    "codyA.age = 33;\n",
    "codyA.gender = 'male'\n",
    "codyA.getGender = function() {return codyA.gender;};\n",
    "\n",
    "console.log(codyA);"
   ]
  },
  {
   "cell_type": "code",
   "execution_count": null,
   "metadata": {},
   "outputs": [],
   "source": [
    "var Person = function(living, age, gender) {\n",
    "  this.living = living;\n",
    "  this.age = age;\n",
    "  this.gender = gender;\n",
    "  this.getGender = function() {return this.gender;};\n",
    "};\n",
    "\n",
    "var codyB = new Person(true, 33, 'maie');\n",
    "\n",
    "console.log(codyB);"
   ]
  },
  {
   "cell_type": "markdown",
   "metadata": {},
   "source": [
    "- codyA와 codyB객체는 객체 자체로는 큰 차이가 없으나, 객체를 만든 생성자 함수는 서로 다름\n",
    "- codyA는 Object() 생성자의 인스턴스를 사용\n",
    "- codyB는 Person() 생성자를 사용, factory(생산공장)로써 사용"
   ]
  },
  {
   "cell_type": "markdown",
   "metadata": {},
   "source": [
    "### 자바스크립트 생성자는 객체 인스턴스를 생성하고 반환한다"
   ]
  },
  {
   "cell_type": "markdown",
   "metadata": {},
   "source": [
    "- 생성자 함수의 역할은 같은 값과 동작을 공유하는 객체를 여러 개 만드는 것에 있음.\n",
    "- 쿠키틀(cooke cutter) : 기본적인 생성자 함수, 기본 속성과 속성 메소드를 갖춘 객체를 생산"
   ]
  },
  {
   "cell_type": "code",
   "execution_count": null,
   "metadata": {},
   "outputs": [],
   "source": [
    "var Person = function Person(living, age, gender) {\n",
    "  this.living = living;\n",
    "  this.age = age;\n",
    "  this.gender = gender;\n",
    "  this.getGender = function() {return this.gender;};\n",
    "};\n",
    "\n",
    "var cody = new Person(true, 33, 'male');\n",
    "\n",
    "console.log(typeof cody);\n",
    "console.log(cody);\n",
    "console.log(cody.constructor);"
   ]
  },
  {
   "cell_type": "code",
   "execution_count": null,
   "metadata": {},
   "outputs": [],
   "source": [
    "var myArray = new Array();\n",
    "\n",
    "console.log(typeof myArray);\n",
    "console.log(myArray);\n",
    "console.log(myArray.constructor);"
   ]
  },
  {
   "cell_type": "markdown",
   "metadata": {},
   "source": [
    "- 자바스크립트에서는 대부분의 값(원시값은 제외)은 생성자 함수를 사용해서, 객체화 또는 인스턴스화 할 수 있다.\n",
    "- 인스턴스(instance) = 생성자 함수에서 반환도니 객체"
   ]
  },
  {
   "cell_type": "markdown",
   "metadata": {},
   "source": [
    "### 자바스크립트 네이티브 / 내장 객체 생성자"
   ]
  },
  {
   "cell_type": "markdown",
   "metadata": {},
   "source": [
    "- 자바스크립트 언어에는 9가지 네이티브(내장) 객체 생성자가 포함되어 있음\n",
    "- Number()\n",
    "- String()\n",
    "- Boolean()\n",
    "- Object()\n",
    "- Array()\n",
    "- Function()\n",
    "- Date()\n",
    "- RegExp()\n",
    "- Error()"
   ]
  },
  {
   "cell_type": "markdown",
   "metadata": {},
   "source": [
    "- Math 객체는 예외 (정적 객체임)\n",
    "- 네이티브 객체 = 전역 네이티브 객체(gloval objects)라고 부른다.\n",
    "- Number(), String(), Blooen() 은 생성자 객체이기도 하며, 숫자, 문자열 불리언값을 제공하기도 함 (복합 객체 대신 원시값을 반환하기도 함)"
   ]
  },
  {
   "cell_type": "markdown",
   "metadata": {},
   "source": [
    "### 사용자 정의 객체 생성자 함수"
   ]
  },
  {
   "cell_type": "code",
   "execution_count": null,
   "metadata": {},
   "outputs": [],
   "source": [
    "var Person = function(living, age, gender) {\n",
    "  this.living = living;\n",
    "  this.age = age;\n",
    "  this.gender = gender;\n",
    "  this.getGender = function() {return this.gender;};\n",
    "};\n",
    "\n",
    "var cody = new Person(true, 33, 'male');\n",
    "console.log(cody);\n",
    "\n",
    "var lisa = new Person(true, 34, 'female');\n",
    "console.log(lisa);"
   ]
  },
  {
   "cell_type": "markdown",
   "metadata": {},
   "source": [
    "- new 연산자와 함께 사용할 떄는 첫 문자는 대문자가 좋다.\n",
    "- 생성자 함수는 쿠키틀과 같다. \n",
    "- 생성자 함수를 new 키워드와 함께 사용하면 생성자 함수 내부에서 정의도니 속성과 값을 가진다.\n",
    "- new 을 사용하지 않고 생성자 함수를 사용하면, 이때 this는 생성자 함수가 포함된 \"부모\"객체를 참조한다.\n",
    "- 객체를 반환하는 함수는 Object() 객체를 만들어 반환하도록 한다. "
   ]
  },
  {
   "cell_type": "markdown",
   "metadata": {},
   "source": [
    "### new연산자를 사용한 생성자 인스턴스 생성"
   ]
  },
  {
   "cell_type": "code",
   "execution_count": null,
   "metadata": {},
   "outputs": [],
   "source": [
    "var myString = new String ('foo');\n",
    "\n",
    "console.log(myString);\n",
    "console.log(typeof myString);\n",
    "\n",
    "console.log(myString[0]);\n",
    "console.log(myString[1]);\n",
    "console.log(myString[2]);"
   ]
  },
  {
   "cell_type": "code",
   "execution_count": null,
   "metadata": {},
   "outputs": [],
   "source": [
    "var myNumber = new Number(23);\n",
    "var myString = new String('male');\n",
    "var myBoolean = new Boolean(false);\n",
    "var myObject = new Object();\n",
    "var myArray = new Array('foo', 'bar');\n",
    "var myFunction = new Function(\"x\", \"y\", \"return x*y\");\n",
    "var myDate = new Date();\n",
    "var myRegExp = new RegExp('\\bt[a-z]+\\b');\n",
    "var myError = new Error('Crap!');\n",
    "\n",
    "console.log(myNumber);\n",
    "console.log(myString);\n",
    "console.log(myBoolean);\n",
    "console.log(myObject);\n",
    "console.log(myArray);\n",
    "console.log(myFunction);\n",
    "console.log(myDate);\n",
    "console.log(myRegExp);\n",
    "console.log(myError);\n",
    "\n",
    "console.log(myNumber.constructor);\n",
    "console.log(myString.constructor);\n",
    "console.log(myBoolean.constructor);\n",
    "console.log(myObject.constructor);\n",
    "console.log(myArray.constructor);\n",
    "console.log(myFunction.constructor);\n",
    "console.log(myDate.constructor);\n",
    "console.log(myRegExp.constructor);\n",
    "console.log(myError.constructor);"
   ]
  },
  {
   "cell_type": "markdown",
   "metadata": {},
   "source": [
    "- 네이티브 생성자 함수를 사용한 객체 인스턴스를 만드는 법(new String('foo'))\n",
    "- 사용자 정의 생성자 함수를 사용해 객체 인스턴스를 만드는 법(new Person(true, 33, 'male')"
   ]
  },
  {
   "cell_type": "markdown",
   "metadata": {},
   "source": [
    "### 리터럴을 사용한 값 생성하기"
   ]
  },
  {
   "cell_type": "code",
   "execution_count": null,
   "metadata": {},
   "outputs": [],
   "source": [
    "var myNumber = new Number(23); # 객체\n",
    "var myNumberLiteral = 23; # 원시값, 객체 아님\n",
    "\n",
    "var myString = new String('male'); # 객체\n",
    "var myStringLiteral = 'male'; # 원시값, 객체 아님\n",
    "\n",
    "var myBoolean = new Boolean(false); # 객체\n",
    "var myBooleanLiteral = false; # 원시값, 객체 아님\n",
    "\n",
    "var myObject = new Object(); # 객체\n",
    "var myObjectLiteral = {}; # 원시값, 객체 아님\n",
    "\n",
    "var myArray = new Array('foo', 'bar'); # 객체\n",
    "var myArrayLiteral = ['foo', 'bar']; # 원시값, 객체 아님\n",
    "\n",
    "var myFunction = new Function(\"x\", \"y\", \"return x*y\"); # 객체\n",
    "var myFunctionLiteral = function(x, y) {return x*y;}; # 원시값, 객체 아님\n",
    "\n",
    "var myDate = new Date(); # 객체\n",
    "var myDateLiteral = {}; # 원시값, 객체 아님\n",
    "\n",
    "var myRegExp = new RegExp('\\bt[a-z]+\\b'); # 객체\n",
    "var myRegExpLiteral = /\\bt[a-z]+\\b/; # 원시값, 객체 아님\n",
    "\n",
    "console.log(myNumber.constructor, myNumberLiteral.constructor);\n",
    "console.log(myString.constructor, myStringLiteral.constructor);\n",
    "console.log(myBoolean.constructor, myBooleanLiteral.constructor);\n",
    "console.log(myObject.constructor, myObjectLiteral.constructor);\n",
    "console.log(myArray.constructor, myArrayLiteral.constructor);\n",
    "console.log(myFunction.constructor, myFunctionLiteral.constructor);\n",
    "console.log(myDate.constructor, myDateLiteral.constructor);\n",
    "console.log(myRegExp.constructor, myRegExpLiteral.constructor);"
   ]
  },
  {
   "cell_type": "markdown",
   "metadata": {},
   "source": [
    "- 문자열, 숫자, 불리언 자료형의 리터럴값을 사용하면, 해당 값은 객체처럼 다루기 전에는 복합 객체가 만들어지지 않는다.\n",
    "- 메소드나 속성에 접근하기 전에는 원시 자료형을 다루는 것이다.\n",
    "- 리터럴값의 메소드나 속성에 접근하면 자바스트립트는 리터럴값에 해당하는 래퍼(wrapper)객체를 만들고 이를 통해 메소드나 속성에 접근한다\n",
    "- 메소드 호출이 끝나면, 래퍼 객체를 제거 후 다리 값을 리터럴형으로 되돌린다.\n",
    "- 문자열, 숫자, 불리언 값은 원시(단순) 자료형으로 취급된다."
   ]
  },
  {
   "cell_type": "markdown",
   "metadata": {},
   "source": [
    "### 원시값(=단순값)"
   ]
  },
  {
   "cell_type": "code",
   "execution_count": null,
   "metadata": {},
   "outputs": [],
   "source": [
    "var myNumber = 19 ;\n",
    "var myString = 'string' ;\n",
    "var myBoolean = false ;\n",
    "var myNull = null ;\n",
    "var myUndefined = undefined ;\n",
    "\n",
    "console.log(myNumber, myString, myBoolean, myNull, myUndefined);"
   ]
  },
  {
   "cell_type": "code",
   "execution_count": null,
   "metadata": {},
   "outputs": [],
   "source": [
    "var myNumber = 19 ;\n",
    "var myString = 'string' ;\n",
    "var myBoolean = false ;\n",
    "var myNull = null ;\n",
    "var myUndefined = undefined ;\n",
    "\n",
    "console.log(myNumber, myString, myBoolean, myNull, myUndefined);\n",
    "\n",
    "var myObject = {\n",
    "  myNumber : 19 ,\n",
    "  myString : 'string' ,\n",
    "  myBoolean : false ,\n",
    "  myNull : null ,\n",
    "  myUndefined : undefined\n",
    "};\n",
    "\n",
    "console.log(myObject);\n",
    "\n",
    "var myArray = ['string', 10, false, null, undefined];\n",
    "\n",
    "console.log(myArray);"
   ]
  },
  {
   "cell_type": "markdown",
   "metadata": {},
   "source": [
    "- 원시값 :  자바스크립트에서 사용하는 데이터 및 정보의 가장 단순한 형태\n",
    "- 리터럴 문법을 사용해 값을 만들 때와 달리, Sting(), Number(), Boolean() 값은 new 키워드를 사용해 만들며, 해당 객체는 복합 객체다.\n",
    "- new 연산자 없이 사용하면 복합 객체 값의 원시형을 반환한다."
   ]
  },
  {
   "cell_type": "markdown",
   "metadata": {},
   "source": [
    "### 원시값 null, undefined, “string”, 10, true, false는 객체가 아니다"
   ]
  },
  {
   "cell_type": "code",
   "execution_count": null,
   "metadata": {},
   "outputs": [],
   "source": [
    "var primitiveString1 = \"foo\";\n",
    "var primitiveString2 = String('foo');\n",
    "var primitiveNumber1 = 10;\n",
    "var primitiveNumber2 = Number('10');\n",
    "var primitiveBoolean1 = true;\n",
    "var primitiveBoolean2 = Boolean('trun');\n",
    "\n",
    "console.log(primitiveString1, primitiveString2);\n",
    "console.log(primitiveNumber1, primitiveNumber2);\n",
    "console.log(primitiveBoolean1, primitiveBoolean2);"
   ]
  },
  {
   "cell_type": "code",
   "execution_count": null,
   "metadata": {},
   "outputs": [],
   "source": [
    "var myNumber = new Number(23);\n",
    "var myString = new String('male');\n",
    "var myBoolean = new Boolean(false);\n",
    "var myObject = new Object();\n",
    "var myArray = new Array('foo', 'bar');\n",
    "var myFunction = new Function(\"x\", \"y\", \"return x*y\");\n",
    "var myDate = new Date();\n",
    "var myRegExp = new RegExp('\\bt[a-z]+\\b');\n",
    "var myError = new Error('Crap!');\n",
    "\n",
    "console.log(\n",
    "  typeof myNumber,\n",
    "  typeof myString,\n",
    "  typeof myBoolean,\n",
    "  typeof myObject,\n",
    "  typeof myArray,\n",
    "  typeof myFunction,  // typeof 는 항상 function으로 반환한다.\n",
    "  typeof myDate,\n",
    "  typeof myRegExp, // typeof 는 항상 object로 반환한다.\n",
    "  typeof myError\n",
    ");"
   ]
  },
  {
   "cell_type": "markdown",
   "metadata": {},
   "source": [
    "### 원시값은 어떻게 저장?복사되는가"
   ]
  },
  {
   "cell_type": "code",
   "execution_count": null,
   "metadata": {},
   "outputs": [],
   "source": [
    "var myString = 'foo';\n",
    "var myStringCopy = myString;\n",
    "var myString = null;\n",
    "\n",
    "console.log(myString, myStringCopy);"
   ]
  },
  {
   "cell_type": "markdown",
   "metadata": {},
   "source": [
    "### 원시값은 값 자체를 비교한다"
   ]
  },
  {
   "cell_type": "code",
   "execution_count": null,
   "metadata": {},
   "outputs": [],
   "source": [
    "var price1 = 10;\n",
    "var price2 = 10;\n",
    "var price3 = new Number('10');  // new 를 사용하여 해당 값은 복합객체다.\n",
    "var price4 = price3 ;\n",
    "\n",
    "console.log(price1, price2, price3, price4);\n",
    "\n",
    "console.log(price1 === price2);\n",
    "console.log(price1 === price3);\n",
    "console.log(price4 === price3);\n",
    "\n",
    "price4 = 10;\n",
    "\n",
    "console.log(price4 === price3);"
   ]
  },
  {
   "cell_type": "markdown",
   "metadata": {},
   "source": [
    "### 문자열, 숫자, 불리언 원시값을 객체처럼 사용하면 객체처럼 동작한다"
   ]
  },
  {
   "cell_type": "code",
   "execution_count": null,
   "metadata": {},
   "outputs": [],
   "source": [
    "var myNull = null;\n",
    "var myUndefined = undefined;\n",
    "var primitiveString1 = \"foo\";\n",
    "var primitiveString2 = String('foo'); // new를 사용하지 않아서 원시값을 얻게 된다.\n",
    "var primitiveNumber1 = 10;\n",
    "var primitiveNumber2 = Number('10'); // new를 사용하지 않아서 원시값을 얻게 된다.\n",
    "var primitiveBoolean1 = true;\n",
    "var primitiveBoolean2 = Boolean('trun'); // new를 사용하지 않아서 원시값을 얻게 된다.\n",
    "\n",
    "console.log(primitiveString1.toString(), primitiveString2.toString());\n",
    "console.log(primitiveNumber1.toString(), primitiveNumber2.toString());\n",
    "console.log(primitiveBoolean1.toString(), primitiveBoolean2.toString());\n",
    "\n",
    "console.log(myNull.toString()); // 객체로 변환되지 않으며 생성자도 없으므로 오류가 발생한다.\n",
    "console.log(myUndefined.toString()); // 객체로 변환되지 않으며 생성자도 없으므로 오류가 발생한다."
   ]
  },
  {
   "cell_type": "markdown",
   "metadata": {},
   "source": [
    "### 복합 객체(=합성 객체)"
   ]
  },
  {
   "cell_type": "markdown",
   "metadata": {},
   "source": [
    "- Objecte(), Array(), Dunction(), Date(), Error(), RegExp() 와 같은 네이티브 객체 생성자들은 한 개 이상의 원시값이나 복합 객체를 저장할 수 있다.\n",
    "- 복합 객체가 메모리에서 차지하는 크기를 명확하지 않다."
   ]
  },
  {
   "cell_type": "code",
   "execution_count": null,
   "metadata": {},
   "outputs": [],
   "source": [
    "var object = {\n",
    "  myString : 'string',\n",
    "  myNumber : 10,\n",
    "  myBoolean : false,\n",
    "  myNull : null,\n",
    "  myUndefined : undefined\n",
    "}; // 복합 객체\n",
    " \n",
    "var array = ['string', 10, false, null, undefined];\n",
    "\n",
    "var myString = 'string' ; // 원시값\n",
    "var myNumber = 10 ;\n",
    "var myBoolean = false ;\n",
    "var myNull = null ;\n",
    "var myUndefined = undefined ;"
   ]
  },
  {
   "cell_type": "markdown",
   "metadata": {},
   "source": [
    "- 복합객체 (complex object) =  합성 객체(composite objects) = 참조 자료형(reference types)\n",
    "- 원시값은 \"값으로 참조\" 되지 않고, 다른 여러 값으로 구성된 합성체를 표현할 수 없다.\n",
    "- 복합객체는 \"값으로 참조\" 되며, 다른 값을 포함하거나 캡슐화 할 수 있다."
   ]
  },
  {
   "cell_type": "markdown",
   "metadata": {},
   "source": [
    "### 복합 객체는 어떻게 저장?복사되는가"
   ]
  },
  {
   "cell_type": "code",
   "execution_count": null,
   "metadata": {},
   "outputs": [],
   "source": [
    "var myObject = {};\n",
    "var copyOfMyObject = myObject;\n",
    "\n",
    "myObject.foo = 'bar';\n",
    "\n",
    "console.log(myObject);\n",
    "console.log(copyOfMyObject);"
   ]
  },
  {
   "cell_type": "markdown",
   "metadata": {},
   "source": [
    "-  값자체가 복사되던 원시값과 달리, 객체(복합 객체)는 참조로 저장된다. \n",
    "- 참조(=메모리 주소)만 복사되고 실제 값은 복사되지 않는다\n",
    "- 복사되는 것은 메모리 저장공간에 있는 객체의 주소 또는 참조일 뿐이다."
   ]
  },
  {
   "cell_type": "markdown",
   "metadata": {},
   "source": [
    "- String(), Number(), Boolean() 값은 new 키워드를 사용해 만들었거나 복합 객체로 변환하더라도 값이 그대로 저장, 복사된다.\n",
    "- 원시값을 복합 객체처럼 다룰 수 있는 경우에도 복사되지 않는다.\n",
    "- 객체의 복사본을 만들고 싶다면 복사할 객체에서 값을 추출한 후 새 객체에 추가한다."
   ]
  },
  {
   "cell_type": "markdown",
   "metadata": {},
   "source": [
    "### 복합 객체는 참조를 비교한다"
   ]
  },
  {
   "cell_type": "code",
   "execution_count": null,
   "metadata": {},
   "outputs": [],
   "source": [
    "var objectFoo = {same: 'same'};\n",
    "var objectBar = {same: 'same'};\n",
    "\n",
    "console.log(objectFoo == objectBar);\n",
    "\n",
    "var objectA = {foo : 'bar'};\n",
    "var objectB = objectA;\n",
    "\n",
    "console.log(objectA == objectB);"
   ]
  },
  {
   "cell_type": "markdown",
   "metadata": {},
   "source": [
    "- 복합 객체를 가르키는 변수들은 변수가 메모리에서 모두 하나의 \"주소\"를 가리키고 있을 때만 같다고 판단한다\n",
    "- 두 개의 독립적인 객체는 자료형이나 속성이 같더라도 다르다고 판단한다."
   ]
  },
  {
   "cell_type": "markdown",
   "metadata": {},
   "source": [
    "### 복합 객체는 동적 속성을 포함한다"
   ]
  },
  {
   "cell_type": "markdown",
   "metadata": {},
   "source": [
    "- 변수를 새로 만들어 이미 존재하던 복합 객체를 가르치더라도, 기존 객체를 복사하지는 않는다.\n",
    "- 복합 객체를 가르켜 참조 객체(reference object)라고 부른다.\n",
    "- 복합 객체는 원한다면 얼마든지 참조를 가질 수 있는데, 가리키던 객체가 수정되더라도 항사 같ㅇ느 객체를 참조한다."
   ]
  },
  {
   "cell_type": "code",
   "execution_count": null,
   "metadata": {},
   "outputs": [],
   "source": [
    "var objA = {property: 'value'};\n",
    "var pointer1 = objA;\n",
    "var pointer2 = pointer1;\n",
    "\n",
    "objA.property = null ;\n",
    "\n",
    "console.log(objA.property, pointer1.property, pointer2.property);"
   ]
  },
  {
   "cell_type": "markdown",
   "metadata": {},
   "source": [
    "### typeof 연산자"
   ]
  },
  {
   "cell_type": "markdown",
   "metadata": {},
   "source": [
    "- typeof 연산자는 값의 자료형을 문자열로 반환한다.\n",
    "- 문자열은 정확하거나 논리적이라고 볼수는 없다."
   ]
  },
  {
   "cell_type": "code",
   "execution_count": null,
   "metadata": {},
   "outputs": [],
   "source": [
    "var myNull = null;\n",
    "var myUndefined = undefined ;\n",
    "var primitrveString1 = \"String\";\n",
    "var primitrveString2 = String('string');\n",
    "var primitrveNumber1 = 10;\n",
    "var primitrveNumber2 = Number('10');\n",
    "var primitrveBoolean1 = true;\n",
    "var primitrveBoolean2 = Boolean('true');\n",
    "\n",
    "console.log(typeof myNull ); // object 가 기록된다. 주의!\n",
    "console.log(typeof myUndefined ); // undefined 가 기록된다.\n",
    "console.log(typeof primitrveString1, typeof primitrveString2) ; // string  이 기록된다.\n",
    "console.log(typeof primitrveNumber1, typeof primitrveNumber2) ; // number 이 기록된다.\n",
    "console.log(typeof primitrveBoolean1, typeof primitrveBoolean2) ; // boolean 이 기록된다."
   ]
  },
  {
   "cell_type": "code",
   "execution_count": null,
   "metadata": {},
   "outputs": [],
   "source": [
    "var myNumber = new Number(23);\n",
    "var myString = new String('male');\n",
    "var myBoolean = new Boolean(false);\n",
    "var myObject = new Object();\n",
    "var myArray = new Array('foo', 'bar');\n",
    "var myFunction = new Function(\"x\", \"y\", \"return x*y\");\n",
    "var myDate = new Date();\n",
    "var myRegExp = new RegExp('\\bt[a-z]+\\b');\n",
    "var myError = new Error('Crap!');\n",
    "\n",
    "console.log(typeof myNumber) ; // object가 기록된다.\n",
    "console.log(typeof myString) ; // object가 기록된다.\n",
    "console.log(typeof myBoolean) ; // object가 기록된다.\n",
    "console.log(typeof myObject) ; // object가 기록된다.\n",
    "console.log(typeof myArray) ; // object가 기록된다.\n",
    "console.log(typeof myFunction) ; // function이 기록된다.  주의!\n",
    "console.log(typeof myDate) ; // object가 기록된다.\n",
    "console.log(typeof myRegExp) ; // object가 기록된다.\n",
    "console.log(typeof myError) ; // object가 기록된다."
   ]
  },
  {
   "cell_type": "markdown",
   "metadata": {},
   "source": [
    "### 동적 속성 덕분에 객체 수정이 가능하다"
   ]
  },
  {
   "cell_type": "markdown",
   "metadata": {},
   "source": [
    " - 복합 객체는 동적 속성으로 이뤄짐\n",
    " - 사용자 정의 객체 및 대부분의 네이티브 객체는 수정할 수 있는 객체 = 가변 객체\n",
    " - 자바스크립트에서는 대부분의 객체를 언제든 갱신 변경할 수 있다.\n",
    " - 미리 정의된 네이티브 객체도 확장 수정 가능하나, 권장하지는 않는다.\n",
    " - 개게가 수정가능함은 네이티브 생성자에 속성을 저장 가능\n",
    " - 네이티브 생성자의 프로토타입 객체에 메소드를 추가하면 네이티브 객체에도 반영될 수 있음"
   ]
  },
  {
   "cell_type": "code",
   "execution_count": null,
   "metadata": {},
   "outputs": [],
   "source": [
    "String.augmentProperties = [];\n",
    "\n",
    "if (!String.prototype.trimIT) {\n",
    "  String.prototype.trimIT = function() {\n",
    "    return this.replace(/^\\s+|\\s+$/g, '');\n",
    "  }\n",
    "  String.augmentProperties.push('trimIT');\n",
    "}\n",
    "\n",
    "var myString = ' trim me ';\n",
    "console.log(myString.trimIT());\n",
    "\n",
    "console.log(String.augmentProperties.join());"
   ]
  },
  {
   "cell_type": "markdown",
   "metadata": {},
   "source": [
    "### 생성자 인스턴스에는 자신의 생성자 함수를 가리키는 속성이 있다"
   ]
  },
  {
   "cell_type": "markdown",
   "metadata": {},
   "source": [
    "- 객체를 인스턴트로 만들면, 이 객체/인스턴트에는 constructor라는 속성이 자동으로 추가된다.\n",
    "- 속성은 해당 객체를 만든 생성자 함수를 가르킴\n",
    "- Object() 객체를 만들어 foo 변수에 객체를 저장한 다음 constructor 속성을 사용할 수 있는지 확인해본다"
   ]
  },
  {
   "cell_type": "code",
   "execution_count": null,
   "metadata": {},
   "outputs": [],
   "source": [
    "var foo = {};\n",
    "\n",
    "console.log(foo.constructor === Object)\n",
    "\n",
    "console.log(foo.constructor)"
   ]
  },
  {
   "cell_type": "markdown",
   "metadata": {},
   "source": [
    "- 어떤 인스턴스를 다루고 있는데, 인스턴트를 만든 생성자 함수를 알 수 없는 경우, 이 사용하면 어떤 인스턴스가 배열인지 객체인지 혹은 다른 자료형인지도 확인할 수 있음"
   ]
  },
  {
   "cell_type": "code",
   "execution_count": null,
   "metadata": {},
   "outputs": [],
   "source": [
    "rvar myNumber = new Number('23');\n",
    "var myNumberL = 23;\n",
    "var myString = new String('male');\n",
    "var myStringL = 'male';\n",
    "var myBoolean = new Boolean('true');\n",
    "var myBooleanL = true;\n",
    "var myObject = new Object();\n",
    "var myObjectL = {};\n",
    "var myArray = new Array();\n",
    "var myArrayL = [];\n",
    "var myFunction = new Function();\n",
    "var myFunctionL = function() {};\n",
    "var myDate = new Date();\n",
    "var myRegExp = new RegExp('/./');\n",
    "var myRegExpL = /./;\n",
    "var myError = new Error();\n",
    "\n",
    "console.log( // 다음 코드는 모두 true를 반환한다.\n",
    "    myNumber.constructor === Number,\n",
    "    myNumberL.constructor === Number,\n",
    "    myString.constructor === String,\n",
    "    myStringL.constructor === String,\n",
    "    myBoolean.constructor === Boolean,\n",
    "    myBooleanL.constructor === Boolean,\n",
    "    myObject.constructor === Object,\n",
    "    myObjectL.constructor === Object,\n",
    "    myArray.constructor === Array,\n",
    "    myArrayL.constructor === Array,\n",
    "    myFunction.constructor === Function,\n",
    "    myFunctionL.constructor === Function,\n",
    "    myDate.constructor === Date,\n",
    "    myRegExp.constructor === RegExp,\n",
    "    myRegExpL.constructor === RegExp,\n",
    "    myError.constructor === Error\n",
    ");"
   ]
  },
  {
   "cell_type": "markdown",
   "metadata": {},
   "source": [
    "- constructor 속성은 사용자 정의 생성자 함수에도 사용할 수 있다."
   ]
  },
  {
   "cell_type": "code",
   "execution_count": null,
   "metadata": {},
   "outputs": [],
   "source": [
    "var CustomConstructor = function CustomConstructor() {return 'Wow!';};\n",
    "var instanceOfObject = new CustomConstructor();\n",
    "\n",
    "console.log(instanceOfObject.constructor === CustomConstructor);\n",
    "\n",
    "console.log(instanceOfObject.constructor);"
   ]
  },
  {
   "cell_type": "markdown",
   "metadata": {},
   "source": [
    "- 객체를 반환하지 않은 원시값은 생성자 함수를 가리키는 constructor 속성을 가진다.\n",
    "- 원시값을 사용할 때도 생서자 함수가 호출된다.\n",
    "- 원시값과 생성자 함수 사이에도 연관성이 생기나, 최종 결과는 원시값이다.\n",
    "- constructor 속성을 통해 사용자 저의 생성자 함수의 실제 이름을 알고 싶다면, 생성 함수를 만들 때 함수 표현시게 실제 이름을 표험시켜야 한다\n",
    "- var Person = function Person () {} ;"
   ]
  },
  {
   "cell_type": "markdown",
   "metadata": {},
   "source": [
    "### 객체가 특정 생성자 함수의 인스턴스인지 확인하기"
   ]
  },
  {
   "cell_type": "markdown",
   "metadata": {},
   "source": [
    "- instanceof 연산자를 사용하면 사용하면 주어진 객체가 특정 생성자 함수의 인스턴스인지 아닌지 화긴할 수 있다."
   ]
  },
  {
   "cell_type": "code",
   "execution_count": null,
   "metadata": {},
   "outputs": [],
   "source": [
    "var CustomConstructor = function() {this.foo = 'bar';};\n",
    "\n",
    "var instanceOfCustomObject = new CustomConstructor();\n",
    "\n",
    "console.log(instanceOfCustomObject instanceof CustomConstructor);\n",
    "\n",
    "console.log(new Array('foo') instanceof Array);"
   ]
  },
  {
   "cell_type": "markdown",
   "metadata": {},
   "source": [
    "- instanceof 연산자를 다룰 때 주의해야 할 것 주에 하나는 자바스크립트의 모든 객체는 Object() 생성자를 상속하므로 어떤 객체가 Object()의 인스턴스인지 물으면 항상 true를 반환한다\n",
    "- instanceof 연산자를 사용해 원시값이 해당하는 객체 래퍼의 인스턴스인지 묻는 경우에는 항상 false를 반환한다\n",
    "- 만약 new 연산자를 사용해 'foo' 문자열을 만들었다면, instanceof 연산자는 true를 반환한다.\n",
    "- 객체를 반환하는 생성자를 통해 만든 복합 객체 또는 인스턴스에만 instaceof를 사용해야 한다."
   ]
  },
  {
   "cell_type": "markdown",
   "metadata": {},
   "source": [
    "### 생성자를 통해 만든 인스턴스에 인스턴스 속성 추가하기"
   ]
  },
  {
   "cell_type": "markdown",
   "metadata": {},
   "source": [
    "- 자바스크립트에서 객체는 언제든 확장할 수 있다(동적 속성)\n",
    "- 자바스크립트는 수정가능한 객체들이 있다.\n",
    "- 생서자 함수로부터 상속받은 객체에도 속서을 추가할 수 있다."
   ]
  },
  {
   "cell_type": "code",
   "execution_count": null,
   "metadata": {},
   "outputs": [],
   "source": [
    "var myArray = new Array();\n",
    "\n",
    "myArray.prop = 'test';\n",
    "\n",
    "console.log(myArray.prop);\n",
    "console.log(myArray);"
   ]
  },
  {
   "cell_type": "markdown",
   "metadata": {},
   "source": [
    "- 원시 자료형을 제외한 Object(), RegExp() 등 모든 네이티브 생성자에도 동일하게 적용될 수 있다"
   ]
  },
  {
   "cell_type": "code",
   "execution_count": null,
   "metadata": {},
   "outputs": [],
   "source": [
    "var myString = new String();\n",
    "var myNumber = new Number();\n",
    "var myBoolean = new Boolean();\n",
    "var myObject = new Object();\n",
    "var myArray = new Array();\n",
    "var myFunction = new Function('return 2+2');\n",
    "var myRegExp = new RegExp('\\bt[a-z]+\\b')\n",
    "\n",
    "myString.prop = 'test';\n",
    "myNumber.prop = 'test';\n",
    "myBoolean.prop = 'test';\n",
    "myObject.prop = 'test';\n",
    "myArray.prop = 'test';\n",
    "myFunction.prop = 'test';\n",
    "myRegExp.prop = 'test';\n",
    "\n",
    "console.log(myString.prop, myNumber.prop, myBoolean.prop, myObject.prop, myArray.prop, myFunction.prop, myRegExp.prop);\n",
    "\n",
    "\n",
    "var myString = 'string' ;\n",
    "var myNumber = 1 ;\n",
    "var myBoolean = true ;\n",
    "\n",
    "myString = true;\n",
    "myNumber = true;\n",
    "myBoolean = true;\n",
    "\n",
    "console.log(myString.prop, myNumber.prop, myBoolean.prop);"
   ]
  },
  {
   "cell_type": "markdown",
   "metadata": {},
   "source": [
    "### “자바스크립트 객체”와 “Object( ) 객체”의 의미"
   ]
  },
  {
   "cell_type": "markdown",
   "metadata": {},
   "source": [
    "- 자바스크립트의 객체 표기를 가리키는 일반적인 용어 \"자바스크립트 객체 (JavaScript objects)와 \"Object() 객체\"는 혼돈하기 쉽다.\n",
    "- Object() 객체는 자바스크립트에서 표현되는 특정한 자료형의 값\n",
    "- Array() 객체는 배열이라는 특정한 종류의 객체\n",
    "- Object() 객체라는 특정한 종류의 객체\n",
    "- Object() 생성자 함수가 생성한 빈 객체 컨테이너를 Object() 객체라 부르고, Array() 생성자 함수가 생성한 배열 객체를 가리켜 Array() 객체라 부른다"
   ]
  },
  {
   "cell_type": "markdown",
   "metadata": {},
   "source": [
    "- Object() 객체는 한 종류의 자료형으로 표현되는 값, 빈객체라는 뜻\n",
    "- '자바스크립트 객체'와는 구분해야 한다.\n",
    "- 자바스크립트에서 표현되는 대부분의 값은 객체이므로, \"자바스크립트 객체\"라 부를 수 있다.\n",
    "- \"Object()객체\"는 Object() 생성자를 통해 만든 객체 인스턴스에만 해당되는 용어다.\n",
    "- \"자바스크립트 객체\"에는 \"Object() 객체\"가 포함되지만, \"Array() 객체\"와 같은 \"자바스크립트 객체\"는 \"Object() 객체\"가 아니다."
   ]
  }
 ],
 "metadata": {
  "kernelspec": {
   "display_name": "Python 3",
   "language": "python",
   "name": "python3"
  },
  "language_info": {
   "codemirror_mode": {
    "name": "ipython",
    "version": 3
   },
   "file_extension": ".py",
   "mimetype": "text/x-python",
   "name": "python",
   "nbconvert_exporter": "python",
   "pygments_lexer": "ipython3",
   "version": "3.6.6"
  }
 },
 "nbformat": 4,
 "nbformat_minor": 2
}
