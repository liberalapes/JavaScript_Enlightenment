{
 "cells": [
  {
   "cell_type": "markdown",
   "metadata": {},
   "source": [
    "# 자바스크립트를 깨우치다"
   ]
  },
  {
   "cell_type": "markdown",
   "metadata": {},
   "source": [
    "## Chapter 1. 자바스크립트 객체 "
   ]
  },
  {
   "cell_type": "markdown",
   "metadata": {},
   "source": [
    "### 객체 만들기"
   ]
  },
  {
   "cell_type": "markdown",
   "metadata": {},
   "source": [
    "<table style=\"width:400px\">\n",
    "    <thead>\n",
    "        <tr>\n",
    "            <th colspan = \"2\">코디(cody)</th>\n",
    "        </tr>\n",
    "        <tr>\n",
    "            <th>속성</th>\n",
    "            <th>속성값</th>\n",
    "        </tr>\n",
    "    </thead>\n",
    "    <tbody>\n",
    "        <tr>\n",
    "            <td>살아있음(living)</td>\n",
    "            <td>참(true)</td>\n",
    "        </tr>\n",
    "        <tr>\n",
    "            <td>나이(age)</td>\n",
    "            <td>33</td>\n",
    "        </tr>\n",
    "        <tr>\n",
    "            <td>성별(gender)</td>\n",
    "            <td>남성(male)</td>\n",
    "        </tr>\n",
    "    </tbody>\n",
    "</table> "
   ]
  },
  {
   "cell_type": "raw",
   "metadata": {},
   "source": [
    "var cody = new Object();\n",
    "\n",
    "cody.living = true;\n",
    "cody.age = 33;\n",
    "cody.gender = 'male';\n",
    "\n",
    "console.log(cody); "
   ]
  },
  {
   "cell_type": "raw",
   "metadata": {},
   "source": [
    "cody.getGender = function() {return condy.gender;};\n",
    "\n",
    "function () {return cody.gender;};\n",
    "\n",
    "console.log(cody); "
   ]
  },
  {
   "cell_type": "raw",
   "metadata": {},
   "source": [
    "var myObject = new Object();\n",
    "myObject['0'] = 'f';\n",
    "myObject['1'] = 'o';\n",
    "myObject['2'] = 'o';\n",
    "\n",
    "console.log(myObject);\n",
    "\n",
    "var myString = new String('foo');\n",
    "\n",
    "console.log(myString);"
   ]
  },
  {
   "cell_type": "raw",
   "metadata": {},
   "source": [
    "var person = function(living, age, gender) {\n",
    "  this.living = living;\n",
    "  this.age = age;\n",
    "  this.gender = gender;\n",
    "  this.getGender = function() {return this.gender;};\n",
    "};\n",
    "\n",
    "var cody = new person(true, 33, 'male');\n",
    "\n",
    "console.log(cody);\n",
    "\n",
    "\n",
    "var myString = new String('foo');\n",
    "\n",
    "console.log(myString);"
   ]
  },
  {
   "cell_type": "raw",
   "metadata": {},
   "source": [
    "var codyA = new Object();\n",
    "\n",
    "codyA.living = true;\n",
    "codyA.age = 33;\n",
    "codyA.gender = 'male'\n",
    "codyA.getGender = function() {return codyA.gender;};\n",
    "\n",
    "console.log(codyA);"
   ]
  },
  {
   "cell_type": "raw",
   "metadata": {},
   "source": [
    "var Person = function(living, age, gender) {\n",
    "  this.living = living;\n",
    "  this.age = age;\n",
    "  this.gender = gender;\n",
    "  this.getGender = function() {return this.gender;};\n",
    "};\n",
    "\n",
    "var codyB = new Person(true, 33, 'maie');\n",
    "\n",
    "console.log(codyB);"
   ]
  },
  {
   "cell_type": "markdown",
   "metadata": {},
   "source": [
    "- codyA와 codyB객체는 객체 자체로는 큰 차이가 없으나, 객체를 만든 생성자 함수는 서로 다름\n",
    "- codyA는 Object() 생성자의 인스턴스를 사용\n",
    "- codyB는 Person() 생성자를 사용, factory(생산공장)로써 사용"
   ]
  },
  {
   "cell_type": "markdown",
   "metadata": {},
   "source": [
    "### 자바스크립트 생성자는 객체 인스턴스를 생성하고 반환한다"
   ]
  },
  {
   "cell_type": "markdown",
   "metadata": {},
   "source": [
    "- 생성자 함수의 역할은 같은 값과 동작을 공유하는 객체를 여러 개 만드는 것에 있음.\n",
    "- 쿠키틀(cooke cutter) : 기본적인 생성자 함수, 기본 속성과 속성 메소드를 갖춘 객체를 생산"
   ]
  },
  {
   "cell_type": "raw",
   "metadata": {},
   "source": [
    "var Person = function Person(living, age, gender) {\n",
    "  this.living = living;\n",
    "  this.age = age;\n",
    "  this.gender = gender;\n",
    "  this.getGender = function() {return this.gender;};\n",
    "};\n",
    "\n",
    "var cody = new Person(true, 33, 'male');\n",
    "\n",
    "console.log(typeof cody);\n",
    "console.log(cody);\n",
    "console.log(cody.constructor);"
   ]
  },
  {
   "cell_type": "raw",
   "metadata": {},
   "source": [
    "var myArray = new Array();\n",
    "\n",
    "console.log(typeof myArray);\n",
    "console.log(myArray);\n",
    "console.log(myArray.constructor);"
   ]
  },
  {
   "cell_type": "markdown",
   "metadata": {},
   "source": [
    "- 자바스크립트에서는 대부분의 값(원시값은 제외)은 생성자 함수를 사용해서, 객체화 또는 인스턴스화 할 수 있다.\n",
    "- 인스턴스(instance) = 생성자 함수에서 반환도니 객체"
   ]
  },
  {
   "cell_type": "markdown",
   "metadata": {},
   "source": [
    "### 자바스크립트 네이티브 / 내장 객체 생성자"
   ]
  },
  {
   "cell_type": "markdown",
   "metadata": {},
   "source": [
    "- 자바스크립트 언어에는 9가지 네이티브(내장) 객체 생성자가 포함되어 있음\n",
    "- Number()\n",
    "- String()\n",
    "- Boolean()\n",
    "- Object()\n",
    "- Array()\n",
    "- Function()\n",
    "- Date()\n",
    "- RegExp()\n",
    "- Error()"
   ]
  },
  {
   "cell_type": "markdown",
   "metadata": {},
   "source": [
    "- Math 객체는 예외 (정적 객체임)\n",
    "- 네이티브 객체 = 전역 네이티브 객체(gloval objects)라고 부른다.\n",
    "- Number(), String(), Blooen() 은 생성자 객체이기도 하며, 숫자, 문자열 불리언값을 제공하기도 함 (복합 객체 대신 원시값을 반환하기도 함)"
   ]
  },
  {
   "cell_type": "markdown",
   "metadata": {},
   "source": [
    "### 사용자 정의 객체 생성자 함수"
   ]
  },
  {
   "cell_type": "raw",
   "metadata": {},
   "source": [
    "var Person = function(living, age, gender) {\n",
    "  this.living = living;\n",
    "  this.age = age;\n",
    "  this.gender = gender;\n",
    "  this.getGender = function() {return this.gender;};\n",
    "};\n",
    "\n",
    "var cody = new Person(true, 33, 'male');\n",
    "console.log(cody);\n",
    "\n",
    "var lisa = new Person(true, 34, 'female');\n",
    "console.log(lisa);"
   ]
  },
  {
   "cell_type": "markdown",
   "metadata": {},
   "source": [
    "- new 연산자와 함께 사용할 떄는 첫 문자는 대문자가 좋다.\n",
    "- 생성자 함수는 쿠키틀과 같다. \n",
    "- 생성자 함수를 new 키워드와 함께 사용하면 생성자 함수 내부에서 정의도니 속성과 값을 가진다.\n",
    "- new 을 사용하지 않고 생성자 함수를 사용하면, 이때 this는 생성자 함수가 포함된 \"부모\"객체를 참조한다.\n",
    "- 객체를 반환하는 함수는 Object() 객체를 만들어 반환하도록 한다. "
   ]
  },
  {
   "cell_type": "markdown",
   "metadata": {},
   "source": [
    "### new연산자를 사용한 생성자 인스턴스 생성"
   ]
  },
  {
   "cell_type": "raw",
   "metadata": {},
   "source": [
    "var myString = new String ('foo');\n",
    "\n",
    "console.log(myString);\n",
    "console.log(typeof myString);\n",
    "\n",
    "console.log(myString[0]);\n",
    "console.log(myString[1]);\n",
    "console.log(myString[2]);"
   ]
  },
  {
   "cell_type": "raw",
   "metadata": {},
   "source": [
    "var myNumber = new Number(23);\n",
    "var myString = new String('male');\n",
    "var myBoolean = new Boolean(false);\n",
    "var myObject = new Object();\n",
    "var myArray = new Array('foo', 'bar');\n",
    "var myFunction = new Function(\"x\", \"y\", \"return x*y\");\n",
    "var myDate = new Date();\n",
    "var myRegExp = new RegExp('\\bt[a-z]+\\b');\n",
    "var myError = new Error('Crap!');\n",
    "\n",
    "console.log(myNumber);\n",
    "console.log(myString);\n",
    "console.log(myBoolean);\n",
    "console.log(myObject);\n",
    "console.log(myArray);\n",
    "console.log(myFunction);\n",
    "console.log(myDate);\n",
    "console.log(myRegExp);\n",
    "console.log(myError);\n",
    "\n",
    "console.log(myNumber.constructor);\n",
    "console.log(myString.constructor);\n",
    "console.log(myBoolean.constructor);\n",
    "console.log(myObject.constructor);\n",
    "console.log(myArray.constructor);\n",
    "console.log(myFunction.constructor);\n",
    "console.log(myDate.constructor);\n",
    "console.log(myRegExp.constructor);\n",
    "console.log(myError.constructor);"
   ]
  },
  {
   "cell_type": "markdown",
   "metadata": {},
   "source": [
    "- 네이티브 생성자 함수를 사용한 객체 인스턴스를 만드는 법(new String('foo'))\n",
    "- 사용자 정의 생성자 함수를 사용해 객체 인스턴스를 만드는 법(new Person(true, 33, 'male')"
   ]
  },
  {
   "cell_type": "markdown",
   "metadata": {},
   "source": [
    "### 리터럴을 사용한 값 생성하기"
   ]
  },
  {
   "cell_type": "raw",
   "metadata": {},
   "source": [
    "var myNumber = new Number(23); # 객체\n",
    "var myNumberLiteral = 23; # 원시값, 객체 아님\n",
    "\n",
    "var myString = new String('male'); # 객체\n",
    "var myStringLiteral = 'male'; # 원시값, 객체 아님\n",
    "\n",
    "var myBoolean = new Boolean(false); # 객체\n",
    "var myBooleanLiteral = false; # 원시값, 객체 아님\n",
    "\n",
    "var myObject = new Object(); # 객체\n",
    "var myObjectLiteral = {}; # 원시값, 객체 아님\n",
    "\n",
    "var myArray = new Array('foo', 'bar'); # 객체\n",
    "var myArrayLiteral = ['foo', 'bar']; # 원시값, 객체 아님\n",
    "\n",
    "var myFunction = new Function(\"x\", \"y\", \"return x*y\"); # 객체\n",
    "var myFunctionLiteral = function(x, y) {return x*y;}; # 원시값, 객체 아님\n",
    "\n",
    "var myDate = new Date(); # 객체\n",
    "var myDateLiteral = {}; # 원시값, 객체 아님\n",
    "\n",
    "var myRegExp = new RegExp('\\bt[a-z]+\\b'); # 객체\n",
    "var myRegExpLiteral = /\\bt[a-z]+\\b/; # 원시값, 객체 아님\n",
    "\n",
    "console.log(myNumber.constructor, myNumberLiteral.constructor);\n",
    "console.log(myString.constructor, myStringLiteral.constructor);\n",
    "console.log(myBoolean.constructor, myBooleanLiteral.constructor);\n",
    "console.log(myObject.constructor, myObjectLiteral.constructor);\n",
    "console.log(myArray.constructor, myArrayLiteral.constructor);\n",
    "console.log(myFunction.constructor, myFunctionLiteral.constructor);\n",
    "console.log(myDate.constructor, myDateLiteral.constructor);\n",
    "console.log(myRegExp.constructor, myRegExpLiteral.constructor);"
   ]
  },
  {
   "cell_type": "markdown",
   "metadata": {},
   "source": [
    "- 문자열, 숫자, 불리언 자료형의 리터럴값을 사용하면, 해당 값은 객체처럼 다루기 전에는 복합 객체가 만들어지지 않는다.\n",
    "- 메소드나 속성에 접근하기 전에는 원시 자료형을 다루는 것이다.\n",
    "- 리터럴값의 메소드나 속성에 접근하면 자바스트립트는 리터럴값에 해당하는 래퍼(wrapper)객체를 만들고 이를 통해 메소드나 속성에 접근한다\n",
    "- 메소드 호출이 끝나면, 래퍼 객체를 제거 후 다리 값을 리터럴형으로 되돌린다.\n",
    "- 문자열, 숫자, 불리언 값은 원시(단순) 자료형으로 취급된다."
   ]
  },
  {
   "cell_type": "markdown",
   "metadata": {},
   "source": [
    "### 원시값(=단순값)"
   ]
  },
  {
   "cell_type": "raw",
   "metadata": {},
   "source": [
    "var myNumber = 19 ;\n",
    "var myString = 'string' ;\n",
    "var myBoolean = false ;\n",
    "var myNull = null ;\n",
    "var myUndefined = undefined ;\n",
    "\n",
    "console.log(myNumber, myString, myBoolean, myNull, myUndefined);"
   ]
  },
  {
   "cell_type": "raw",
   "metadata": {},
   "source": [
    "var myNumber = 19 ;\n",
    "var myString = 'string' ;\n",
    "var myBoolean = false ;\n",
    "var myNull = null ;\n",
    "var myUndefined = undefined ;\n",
    "\n",
    "console.log(myNumber, myString, myBoolean, myNull, myUndefined);\n",
    "\n",
    "var myObject = {\n",
    "  myNumber : 19 ,\n",
    "  myString : 'string' ,\n",
    "  myBoolean : false ,\n",
    "  myNull : null ,\n",
    "  myUndefined : undefined\n",
    "};\n",
    "\n",
    "console.log(myObject);\n",
    "\n",
    "var myArray = ['string', 10, false, null, undefined];\n",
    "\n",
    "console.log(myArray);"
   ]
  },
  {
   "cell_type": "markdown",
   "metadata": {},
   "source": [
    "- 원시값 :  자바스크립트에서 사용하는 데이터 및 정보의 가장 단순한 형태\n",
    "- 리터럴 문법을 사용해 값을 만들 때와 달리, Sting(), Number(), Boolean() 값은 new 키워드를 사용해 만들며, 해당 객체는 복합 객체다.\n",
    "- new 연산자 없이 사용하면 복합 객체 값의 원시형을 반환한다."
   ]
  },
  {
   "cell_type": "markdown",
   "metadata": {},
   "source": [
    "### 원시값 null, undefined, “string”, 10, true, false는 객체가 아니다"
   ]
  },
  {
   "cell_type": "raw",
   "metadata": {},
   "source": [
    "var primitiveString1 = \"foo\";\n",
    "var primitiveString2 = String('foo');\n",
    "var primitiveNumber1 = 10;\n",
    "var primitiveNumber2 = Number('10');\n",
    "var primitiveBoolean1 = true;\n",
    "var primitiveBoolean2 = Boolean('trun');\n",
    "\n",
    "console.log(primitiveString1, primitiveString2);\n",
    "console.log(primitiveNumber1, primitiveNumber2);\n",
    "console.log(primitiveBoolean1, primitiveBoolean2);"
   ]
  },
  {
   "cell_type": "raw",
   "metadata": {},
   "source": [
    "var myNumber = new Number(23);\n",
    "var myString = new String('male');\n",
    "var myBoolean = new Boolean(false);\n",
    "var myObject = new Object();\n",
    "var myArray = new Array('foo', 'bar');\n",
    "var myFunction = new Function(\"x\", \"y\", \"return x*y\");\n",
    "var myDate = new Date();\n",
    "var myRegExp = new RegExp('\\bt[a-z]+\\b');\n",
    "var myError = new Error('Crap!');\n",
    "\n",
    "console.log(\n",
    "  typeof myNumber,\n",
    "  typeof myString,\n",
    "  typeof myBoolean,\n",
    "  typeof myObject,\n",
    "  typeof myArray,\n",
    "  typeof myFunction,  // typeof 는 항상 function으로 반환한다.\n",
    "  typeof myDate,\n",
    "  typeof myRegExp, // typeof 는 항상 object로 반환한다.\n",
    "  typeof myError\n",
    ");"
   ]
  },
  {
   "cell_type": "markdown",
   "metadata": {},
   "source": [
    "### 원시값은 어떻게 저장?복사되는가"
   ]
  },
  {
   "cell_type": "raw",
   "metadata": {},
   "source": [
    "var myString = 'foo';\n",
    "var myStringCopy = myString;\n",
    "var myString = null;\n",
    "\n",
    "console.log(myString, myStringCopy);"
   ]
  },
  {
   "cell_type": "markdown",
   "metadata": {},
   "source": [
    "### 원시값은 값 자체를 비교한다"
   ]
  },
  {
   "cell_type": "raw",
   "metadata": {},
   "source": [
    "var price1 = 10;\n",
    "var price2 = 10;\n",
    "var price3 = new Number('10');  // new 를 사용하여 해당 값은 복합객체다.\n",
    "var price4 = price3 ;\n",
    "\n",
    "console.log(price1, price2, price3, price4);\n",
    "\n",
    "console.log(price1 === price2);\n",
    "console.log(price1 === price3);\n",
    "console.log(price4 === price3);\n",
    "\n",
    "price4 = 10;\n",
    "\n",
    "console.log(price4 === price3);"
   ]
  },
  {
   "cell_type": "markdown",
   "metadata": {},
   "source": [
    "### 문자열, 숫자, 불리언 원시값을 객체처럼 사용하면 객체처럼 동작한다"
   ]
  },
  {
   "cell_type": "raw",
   "metadata": {},
   "source": [
    "var myNull = null;\n",
    "var myUndefined = undefined;\n",
    "var primitiveString1 = \"foo\";\n",
    "var primitiveString2 = String('foo'); // new를 사용하지 않아서 원시값을 얻게 된다.\n",
    "var primitiveNumber1 = 10;\n",
    "var primitiveNumber2 = Number('10'); // new를 사용하지 않아서 원시값을 얻게 된다.\n",
    "var primitiveBoolean1 = true;\n",
    "var primitiveBoolean2 = Boolean('trun'); // new를 사용하지 않아서 원시값을 얻게 된다.\n",
    "\n",
    "console.log(primitiveString1.toString(), primitiveString2.toString());\n",
    "console.log(primitiveNumber1.toString(), primitiveNumber2.toString());\n",
    "console.log(primitiveBoolean1.toString(), primitiveBoolean2.toString());\n",
    "\n",
    "console.log(myNull.toString()); // 객체로 변환되지 않으며 생성자도 없으므로 오류가 발생한다.\n",
    "console.log(myUndefined.toString()); // 객체로 변환되지 않으며 생성자도 없으므로 오류가 발생한다."
   ]
  },
  {
   "cell_type": "markdown",
   "metadata": {},
   "source": [
    "### 복합 객체(=합성 객체)"
   ]
  },
  {
   "cell_type": "markdown",
   "metadata": {},
   "source": [
    "- Objecte(), Array(), Dunction(), Date(), Error(), RegExp() 와 같은 네이티브 객체 생성자들은 한 개 이상의 원시값이나 복합 객체를 저장할 수 있다.\n",
    "- 복합 객체가 메모리에서 차지하는 크기를 명확하지 않다."
   ]
  },
  {
   "cell_type": "raw",
   "metadata": {},
   "source": [
    "var object = {\n",
    "  myString : 'string',\n",
    "  myNumber : 10,\n",
    "  myBoolean : false,\n",
    "  myNull : null,\n",
    "  myUndefined : undefined\n",
    "}; // 복합 객체\n",
    " \n",
    "var array = ['string', 10, false, null, undefined];\n",
    "\n",
    "var myString = 'string' ; // 원시값\n",
    "var myNumber = 10 ;\n",
    "var myBoolean = false ;\n",
    "var myNull = null ;\n",
    "var myUndefined = undefined ;"
   ]
  },
  {
   "cell_type": "markdown",
   "metadata": {},
   "source": [
    "- 복합객체 (complex object) =  합성 객체(composite objects) = 참조 자료형(reference types)\n",
    "- 원시값은 \"값으로 참조\" 되지 않고, 다른 여러 값으로 구성된 합성체를 표현할 수 없다.\n",
    "- 복합객체는 \"값으로 참조\" 되며, 다른 값을 포함하거나 캡슐화 할 수 있다."
   ]
  },
  {
   "cell_type": "markdown",
   "metadata": {},
   "source": [
    "### 복합 객체는 어떻게 저장?복사되는가"
   ]
  },
  {
   "cell_type": "markdown",
   "metadata": {},
   "source": [
    "### 복합 객체는 참조를 비교한다"
   ]
  },
  {
   "cell_type": "markdown",
   "metadata": {},
   "source": [
    "### 복합 객체는 동적 속성을 포함한다"
   ]
  },
  {
   "cell_type": "markdown",
   "metadata": {},
   "source": [
    "### typeof 연산자"
   ]
  },
  {
   "cell_type": "markdown",
   "metadata": {},
   "source": [
    "### 동적 속성 덕분에 객체 수정이 가능하다"
   ]
  },
  {
   "cell_type": "markdown",
   "metadata": {},
   "source": [
    "### 생성자 인스턴스에는 자신의 생성자 함수를 가리키는 속성이 있다"
   ]
  },
  {
   "cell_type": "markdown",
   "metadata": {},
   "source": [
    "### 객체가 특정 생성자 함수의 인스턴스인지 확인하기"
   ]
  },
  {
   "cell_type": "markdown",
   "metadata": {},
   "source": [
    "### 생성자를 통해 만든 인스턴스에 인스턴스 속성 추가하기"
   ]
  },
  {
   "cell_type": "markdown",
   "metadata": {},
   "source": [
    "### “자바스크립트 객체”와 “Object( ) 객체”의 의미"
   ]
  },
  {
   "cell_type": "code",
   "execution_count": null,
   "metadata": {},
   "outputs": [],
   "source": []
  }
 ],
 "metadata": {
  "kernelspec": {
   "display_name": "Python 3",
   "language": "python",
   "name": "python3"
  },
  "language_info": {
   "codemirror_mode": {
    "name": "ipython",
    "version": 3
   },
   "file_extension": ".py",
   "mimetype": "text/x-python",
   "name": "python",
   "nbconvert_exporter": "python",
   "pygments_lexer": "ipython3",
   "version": "3.6.6"
  }
 },
 "nbformat": 4,
 "nbformat_minor": 2
}
