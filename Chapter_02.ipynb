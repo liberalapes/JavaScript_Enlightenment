{
 "cells": [
  {
   "cell_type": "markdown",
   "metadata": {},
   "source": [
    "# 자바스크립트를 깨우치다"
   ]
  },
  {
   "cell_type": "markdown",
   "metadata": {},
   "source": [
    "## Chapter 2. 객체와 속성 다루기"
   ]
  },
  {
   "cell_type": "markdown",
   "metadata": {},
   "source": [
    "### 복합 객체는 자바스크립트 자료형의 대부분을 속성으로 포함할 수 있다"
   ]
  },
  {
   "cell_type": "markdown",
   "metadata": {},
   "source": [
    "- 복합 객체(complex object)는 어떤 자바스크립트 자료형이든 포함할 수 있다."
   ]
  },
  {
   "cell_type": "code",
   "execution_count": null,
   "metadata": {},
   "outputs": [],
   "source": [
    "var myObject = {};\n",
    "\n",
    "myObject.myFunction = function() {};\n",
    "myObject.myArray = [];\n",
    "myObject.myString = 'string';\n",
    "myObject.myNumber = 33;\n",
    "myObject.myDate = new Date();\n",
    "myObject.myRegExp = /a/;\n",
    "myObject.myNull = null;\n",
    "myObject.myUndefined = undefined;\n",
    "myObject.myObject = {};\n",
    "myObject.myMath_PI = Math.PI;\n",
    "myObject.myError = new Error('Crop!');\n",
    "\n",
    "console.log(\n",
    "  myObject.myFunction,\n",
    "  myObject.myArray,\n",
    "  myObject.myString,\n",
    "  myObject.myNumber,\n",
    "  myObject.myDate,\n",
    "  myObject.myRegExp,\n",
    "  myObject.myNull,\n",
    "  myObject.myUndefined,\n",
    "  myObject.myObject,\n",
    "  myObject.myMath_PI,\n",
    "  myObject.myError\n",
    ");\n",
    "\n",
    "var myFunction = function() {};\n",
    "\n",
    "myFunction.myFunction = function() {};\n",
    "myFunction.myArray = [];\n",
    "myFunction.myString = 'string';\n",
    "myFunction.myNumber = 33;\n",
    "myFunction.myDate = new Date();\n",
    "myFunction.myRegExp = /a/;\n",
    "myFunction.myNull = null;\n",
    "myFunction.myUndefined = undefined;\n",
    "myFunction.myObject = {};\n",
    "myFunction.myMath_PI = Math.PI;\n",
    "myFunction.myError = new Error('Crop!');\n",
    "\n",
    "console.log(\n",
    "  myFunction.myFunction,\n",
    "  myFunction.myArray,\n",
    "  myFunction.myString,\n",
    "  myFunction.myNumber,\n",
    "  myFunction.myDate,\n",
    "  myFunction.myRegExp,\n",
    "  myFunction.myNull,\n",
    "  myFunction.myUndefined,\n",
    "  myFunction.myObject,\n",
    "  myFunction.myMath_PI,\n",
    "  myFunction.myError,\n",
    ");"
   ]
  },
  {
   "cell_type": "markdown",
   "metadata": {},
   "source": [
    "- 복합 객체는 일반적으로 자바스크립트에서 표현할 수 있는 모든 값을 포함하거나 참조할 수 있다.\n",
    "- 네이티브 객체도 모두 변경할 수 있다.\n",
    "- new 연산자를 사용해 객체 행태로 만들어진 String(), Number(), Boolean() 값에도 임의의 속성을 추가할 수 있다."
   ]
  },
  {
   "cell_type": "markdown",
   "metadata": {},
   "source": [
    "### 복합 객체에 다른 객체 포함하기"
   ]
  },
  {
   "cell_type": "markdown",
   "metadata": {},
   "source": [
    "- Object(), Array(), Function() 객체는 다른 복합 객체를 포함할 수 있다."
   ]
  },
  {
   "cell_type": "code",
   "execution_count": null,
   "metadata": {},
   "outputs": [],
   "source": [
    "var object1 = {\n",
    "  object_1: {\n",
    "    object1_1_1: {foo: 'bar'},\n",
    "    object1_1_2: {},\n",
    "  },\n",
    "  object_2: {\n",
    "    object1_2_1: {},\n",
    "    object1_2_2: {},\n",
    "  }\n",
    "};\n",
    "\n",
    "console.log(object1.object_1.object1_1_1.foo);"
   ]
  },
  {
   "cell_type": "markdown",
   "metadata": {},
   "source": [
    "- Array() 객체와도 동일한 동작이 가능하며, Function() 객체와도 가능하다."
   ]
  },
  {
   "cell_type": "code",
   "execution_count": null,
   "metadata": {},
   "outputs": [],
   "source": [
    "var myArray = [[[]]];\n",
    "\n",
    "var myFunction = function() {\n",
    "  // 내용없음\n",
    "  var myFunction = function() {\n",
    "    // 내용없음\n",
    "    var myFunction = function() {\n",
    "    };\n",
    "  };\n",
    "};\n",
    "\n",
    "\n",
    "var foo = [{\n",
    "  foo: [{\n",
    "    bar: {\n",
    "      say: function () {\n",
    "        return 'hi';\n",
    "      }\n",
    "    }}]}];\n",
    "\n",
    "console.log(foo[0].foo[0].bar.say());"
   ]
  },
  {
   "cell_type": "markdown",
   "metadata": {},
   "source": [
    "### 점 표기법과 각괄호 표기법을 사용한 객체 속성 접근"
   ]
  },
  {
   "cell_type": "markdown",
   "metadata": {},
   "source": [
    "- 점 표기법(dot notation)이나 각괄호 표기법(bracket notation)을 사용하면 객체의 속성을 얻거나 설정하거나 갱신할 수 있다."
   ]
  },
  {
   "cell_type": "code",
   "execution_count": null,
   "metadata": {},
   "outputs": [],
   "source": [
    "var cody = new Object();\n",
    "\n",
    "cody.living = true;\n",
    "cody.age = 33;\n",
    "cody.gender = 'male';\n",
    "cody.getGender = function() {return cody.gender;};\n",
    "\n",
    "console.log(\n",
    "  cody.living,\n",
    "  cody.age,\n",
    "  cody.gender,\n",
    "  cody.getGender()\n",
    ");\n",
    "\n",
    "cody.living = false;\n",
    "cody.age = 99;\n",
    "cody.gender = 'female';\n",
    "cody.getGender = function() {return 'Gender = ' + cody.gender;};\n",
    "\n",
    "console.log(cody);"
   ]
  },
  {
   "cell_type": "markdown",
   "metadata": {},
   "source": [
    "- 점 표기법은 객체의 속성을 얻거나 설정하거나 생신할 때, 사용할 수 있는 표기법 중 가장 많이 사용되는 표기법이다."
   ]
  },
  {
   "cell_type": "code",
   "execution_count": null,
   "metadata": {},
   "outputs": [],
   "source": [
    "var cody = new Object();\n",
    "\n",
    "cody['living'] = true;\n",
    "cody['age'] = 33;\n",
    "cody['gender'] = 'male';\n",
    "cody['getGender'] = function() {return cody.gender;};\n",
    "\n",
    "console.log(\n",
    "  cody['living'],\n",
    "  cody['age'],\n",
    "  cody['gender'],\n",
    "  cody['getGender']()\n",
    ");\n",
    "\n",
    "cody['living'] = false;\n",
    "cody['age'] = 99;\n",
    "cody['gender'] = 'female';\n",
    "cody['getGender'] = function() {return 'Gender = ' + cody.gender;};"
   ]
  },
  {
   "cell_type": "markdown",
   "metadata": {},
   "source": [
    "- 각괄호 표기법은 속성 이름 문자열을 저장하고 있는 변수를 사용해 속성 키에 접근해야 할 때, 편리하다."
   ]
  },
  {
   "cell_type": "code",
   "execution_count": null,
   "metadata": {},
   "outputs": [],
   "source": [
    "var foobarObject = {foobar: 'foobar'};\n",
    "\n",
    "var string1 = 'foo';\n",
    "var string2 = 'bar';\n",
    "\n",
    "console.log(string1);\n",
    "console.log(string2);\n",
    "\n",
    "console.log(foobarObject[string1]);\n",
    "console.log(foobarObject[string2]);\n",
    "\n",
    "console.log(foobarObject[string1 + string2]);"
   ]
  },
  {
   "cell_type": "markdown",
   "metadata": {},
   "source": [
    "- 각괄호 표기법을 사용하면 자바스크립트 식별자로 사용할 수 없는 속성 이름도 사용할수 있다."
   ]
  },
  {
   "cell_type": "code",
   "execution_count": null,
   "metadata": {},
   "outputs": [],
   "source": [
    "var myObject = {'123':'zero', 'class':'foo'};\n",
    "\n",
    "console.log(myObject);\n",
    "\n",
    "console.log(myObject['123'], myObject['class']);"
   ]
  },
  {
   "cell_type": "markdown",
   "metadata": {},
   "source": [
    "- 객체는 다른 객체를 포함할 수 있으므로, cody.object.object.object.object  또는 cody['object']['object']['object']['object']도 가능하다.\n",
    "- 이를 객체 체이닝(object chanining)이라고 한다.\n",
    "- 자바스크립트에서 객체는 가변적이다.\n",
    "- 대부분의 객체들은 언제든 값을 가져오거나 설정하거나 갱신할 수 있다.\n",
    "- 각괄호 표기법을 사용하면 연관 배열(associatice arrarys)을 흉내낼수 있다.\n",
    "- 객체 내에 있는 어떤 속성이 메소드인 경우, () 연산자만 사용하면 속성 메소드를 실행할 수 있다."
   ]
  },
  {
   "cell_type": "markdown",
   "metadata": {},
   "source": [
    "### 객체 속성 삭제하기"
   ]
  },
  {
   "cell_type": "markdown",
   "metadata": {},
   "source": [
    "- delete 연산자를 사용하면 객체에서 특정 속성을 완전히 제거할 수 있다."
   ]
  },
  {
   "cell_type": "code",
   "execution_count": null,
   "metadata": {},
   "outputs": [],
   "source": [
    "var foo = {bar: 'bar'};\n",
    "delete foo.bar;\n",
    "console.log('bar' in foo);b"
   ]
  },
  {
   "cell_type": "markdown",
   "metadata": {},
   "source": [
    "- delete 연산자는 프로토타입 체인에 있는 속성을 제거하지는 않는다.\n",
    "- delete 연산자는 객체에서 속성을 제거할 수 있는 유일한 방법이다.\n",
    "- 속성을 undefined 또는 null로 설정하면 속성의 값이 변경될 뿐 속성이 삭제되지는 않는다."
   ]
  },
  {
   "cell_type": "markdown",
   "metadata": {},
   "source": [
    "### 객체 속성의 참조를 찾는 법"
   ]
  },
  {
   "cell_type": "markdown",
   "metadata": {},
   "source": [
    "- 접근한 속성이 객체에 포함되어 있지 않으면, 자바스크립트는 항상 프로토타입 체인을 이용해 속성과 메소드를 찾는다."
   ]
  },
  {
   "cell_type": "code",
   "execution_count": null,
   "metadata": {},
   "outputs": [],
   "source": [
    "var myArray = [];\n",
    "\n",
    "console.log(myArray.foo);\n",
    "console.log(myArray);"
   ]
  },
  {
   "cell_type": "markdown",
   "metadata": {},
   "source": [
    "- 객체의 속성에 접근하면 자바스크립트는 객체 인스턴스에 해당 속성이 있는지 확인한다.\n",
    "- 객체에 속성이 있으면, 속성값을 반환하고, 상속이 발생하지는 않는다.\n",
    "- 객체에 찾는 속성이 없으면, 자바스크립트는 해당 객체 생성자 함수의 prototype 객체를 찾는다."
   ]
  },
  {
   "cell_type": "markdown",
   "metadata": {},
   "source": [
    "- 모든 객체 인스턴스는 인스턴스를 만든 생성자 함수를 가리키는 비밀 링크(__proto__)를 같는다.\n",
    "- 이 비밀 링크를 사용하면 생성자 함수를 바로 확인할 수 있다. \n",
    "- 특히 인스턴스 생성자의 함수의 prototype 속성에 접근할 때 유용하다."
   ]
  },
  {
   "cell_type": "code",
   "execution_count": null,
   "metadata": {},
   "outputs": [],
   "source": [
    "var myArray = ['foo','bar'];\n",
    "\n",
    "console.log(myArray.join());"
   ]
  },
  {
   "cell_type": "markdown",
   "metadata": {},
   "source": [
    "- Array() 인스턴스는 속성과 메소드를 갖춘 객체다."
   ]
  },
  {
   "cell_type": "code",
   "execution_count": null,
   "metadata": {},
   "outputs": [],
   "source": [
    "var myArray = ['foo','bar'];\n",
    "\n",
    "console.log(myArray.hasOwnProperty('join'));"
   ]
  },
  {
   "cell_type": "markdown",
   "metadata": {},
   "source": [
    "- join() 메소드는 마치 myArray의 속성인 것처럼 접속할 수 있다.\n",
    "- 자바스크립트는 Array() 생성자를 만들 때 join() 메소드를 Array()의 prorotype 속성에 추가한다.\n",
    "\n",
    "- 어떤 속성이 없는 객체에서 해당 속성을 찾으면, 자바스크립트는 이 값을 프로토타입 체인에서 찾는다.\n",
    "- 먼저 객체를 만든 생성자 함수를 살피고, 생성자 함수의 프로토타입에 해당 속성이 있는지 찾는다.\n",
    "- 속성이 없으면 자바스크립트는 프로토타입 체인을 따라 생성자 뒤에 있는 생성자를 찾는다."
   ]
  },
  {
   "cell_type": "code",
   "execution_count": null,
   "metadata": {},
   "outputs": [],
   "source": [
    "var myArray = ['foo','bar'];\n",
    "\n",
    "console.log(myArray.toLocaleString());"
   ]
  },
  {
   "cell_type": "markdown",
   "metadata": {},
   "source": [
    "- toLocaleString() 메소드는 myArray 객체 안에서 정의되지 않는다.\n",
    "- 프로토타입 체인 규칙이 적용되어 자바스크립트는 Array 생성자의 prototype 속에서 toLocaleString() 메소드를 찾는다.\n",
    "- 이후 다시 프로토타입 체인 규칙이 적용되어 Object() 의 prototype 속성에서 메소드를 찾는다.\n",
    "- prototype 속성은 모두 객체이며 프로토타입 체인의 종점은 Object.prototype이다."
   ]
  },
  {
   "cell_type": "markdown",
   "metadata": {},
   "source": [
    "### hasOwnProperty를 사용해 프로토타입 체인에서 상속받은 속성인지 확인하기"
   ]
  },
  {
   "cell_type": "markdown",
   "metadata": {},
   "source": [
    "- in 연산자를 사용하면 객체의 속성을 확인할 때, 프로토타입 체인에서 상속받는 속성까지 포함한다.\n",
    "- hasWenProperty 메소드를 사용하면 객체의 속성이 프로토타입 체인에서 상속받지 않은 객체의 고유한 것인지를 확인할 수 있다."
   ]
  },
  {
   "cell_type": "code",
   "execution_count": null,
   "metadata": {},
   "outputs": [],
   "source": [
    "var myObject = {foo: 'value'};\n",
    "console.log(myObject.hasOwnProperty('foo'));\n",
    "console.log(myObject.hasOwnProperty('toString'));"
   ]
  },
  {
   "cell_type": "markdown",
   "metadata": {},
   "source": [
    "- 객체 자체의 속성인지 혹은 프로토타입 체인에서 상속받은 속성인지 확인하려면 반드시 hasOwnProperty 메소드의 도움을 받아야 한다."
   ]
  },
  {
   "cell_type": "markdown",
   "metadata": {},
   "source": [
    "### in연산자를 사용해 객체가 주어진 속성을 포함하는지 확인하기"
   ]
  },
  {
   "cell_type": "markdown",
   "metadata": {},
   "source": [
    "- in 연산자는 어떤 객체가 주어진 속성을 포함하고 있는지 검사할 수 있다."
   ]
  },
  {
   "cell_type": "code",
   "execution_count": null,
   "metadata": {},
   "outputs": [],
   "source": [
    "var myObject = {foo: 'value'};\n",
    "\n",
    "console.log('foo' in myObject);"
   ]
  },
  {
   "cell_type": "markdown",
   "metadata": {},
   "source": [
    "- in 연산자는 참조한 객체에 포함된 속성은 물론 해당 객체가 프로토타입 체인을 통해 상속받은 속성도 확인한다.\n",
    "- 자바스크립트는 현재 객체에 주어진 속성이 없으면 동일한 규칙을 사용해 프로토타입 체인에서 해당 속성을 찾는다."
   ]
  },
  {
   "cell_type": "code",
   "execution_count": null,
   "metadata": {},
   "outputs": [],
   "source": [
    "var myObject = {foo: 'value'};\n",
    "\n",
    "console.log('toString' in myObject);"
   ]
  },
  {
   "cell_type": "markdown",
   "metadata": {},
   "source": [
    "- toString 속성은 myObject 객체의 내부에는 없는 속성이다.\n",
    "- Object.prototype에서 상속받은 속성이고, in 연산자는 myOject 가 실제로 상속 받은 toString() 속성 메소드를 갖는다."
   ]
  },
  {
   "cell_type": "markdown",
   "metadata": {},
   "source": [
    "### for in루프를 사용해 객체의 속성 탐색하기"
   ]
  },
  {
   "cell_type": "markdown",
   "metadata": {},
   "source": [
    "- for in 문을 사용하면 객체의 각 속성을 탐색할 수 있다."
   ]
  },
  {
   "cell_type": "code",
   "execution_count": null,
   "metadata": {},
   "outputs": [],
   "source": [
    "var cody = {\n",
    "  age : 23,\n",
    "  genger : 'male'\n",
    "};\n",
    "\n",
    "for (var key in cody) {\n",
    "  if(cody.hasOwnProperty(key)){\n",
    "    console.log(key);\n",
    "  }\n",
    "};"
   ]
  },
  {
   "cell_type": "markdown",
   "metadata": {},
   "source": [
    "- for in 는 특정 객체의 속성 뿐 아니라 다른 객체에서 상속받은 속성까지 탐색한다.\n",
    "- 굳이 상속받은 속성까지 확인할 목적이 아니라면 루프 내에 간단한 if 문을 사용해 특정 객체를 포함하는 속성만 볼 수 있다.\n",
    "- 조건 문에는 모든 객체가 다 상속하고 있는 hasOwnProperty() 메소드를 사용하면 된다.\n",
    "\n",
    "- 루프에서 속성 접근하는 순서는 속성이 정의된 순서와 다를 수 있다.\n",
    "- 속성을 정의한 순서는 속성이 사용되는 순서와 필연적으로 다를 수 있다.\n",
    "\n",
    "- 열거할 수 있는 속성한 for in 루프에서 볼 수 있다."
   ]
  },
  {
   "cell_type": "markdown",
   "metadata": {},
   "source": [
    "### 호스트 객체 vs. 네이티브 객체"
   ]
  },
  {
   "cell_type": "markdown",
   "metadata": {},
   "source": [
    "- 일반적으로 자바스크립트가 실행되는 환경에는 호스트 객체(host object)가 있다.\n",
    "- 호스트 객체는 ECMAScript 명세에서 정의 되지 않았으나, 코드를 실행할 때는 사용될 수 있는 객체이다."
   ]
  },
  {
   "cell_type": "code",
   "execution_count": null,
   "metadata": {},
   "outputs": [],
   "source": [
    "for (x in window) {\n",
    "    console.log(x); \n",
    "}"
   ]
  },
  {
   "cell_type": "markdown",
   "metadata": {},
   "source": [
    "- 웹 브라우저와 관련 있는 호스트 객체는 HTML 문서와 동작하는 인터페이스로서 보통은 DOM으로 알려져있다."
   ]
  },
  {
   "cell_type": "code",
   "execution_count": null,
   "metadata": {},
   "outputs": [],
   "source": [
    "for (x in window.duocumnet) {\n",
    "  console.log();\n",
    "};"
   ]
  },
  {
   "cell_type": "markdown",
   "metadata": {},
   "source": [
    "- 자바스크립트 코드를 실행하는 호스트 환경에는 일반적으로 자바스크립트의 네이티브 기능과 함께 호스트 객체, 사용자 정의 객체를 저장하는 공간인 머리 객체(head object)가 있다.\n",
    "- 자바스크립트를 호스트하는 웹 브라우저의 제조자에서 자바스크립트의 발전을 막는 일도 꽤 있지만, 승인 받지 않은 명세를 자바스크립트에 추가하는 것도 자주 있다."
   ]
  },
  {
   "cell_type": "markdown",
   "metadata": {},
   "source": [
    "### Underscore.js를 사용한 객체 확장"
   ]
  },
  {
   "cell_type": "markdown",
   "metadata": {},
   "source": [
    "- 다음 함수는 모든 객체 및 배열에 사용할 수 있다.\n",
    "    - each()\n",
    "    - map()\n",
    "    - reduce()\n",
    "    - reduceRight()\n",
    "    - detect()\n",
    "    - select()\n",
    "    - reject()\n",
    "    - all()\n",
    "    - any()\n",
    "    - include()\n",
    "    - invoke()\n",
    "    - pluck()\n",
    "    - max()\n",
    "    - min()\n",
    "    - sortBy()\n",
    "    - sortIndex()\n",
    "    - toArray()\n",
    "    - size()"
   ]
  },
  {
   "cell_type": "markdown",
   "metadata": {},
   "source": [
    "- 다음 함수들은 모든 객체에 사용할 수 있다.\n",
    "    - key()\n",
    "    - values()\n",
    "    - functions()\n",
    "    - extend()\n",
    "    - clone()\n",
    "    - tap()\n",
    "    - isEqual()\n",
    "    - isEmpty()\n",
    "    - isElement()\n",
    "    - isArray()\n",
    "    - isArguments()\n",
    "    - isFunction()\n",
    "    - isString()\n",
    "    - isNumber\n",
    "    - isBoolean\n",
    "    - isDate\n",
    "    - isRegExp\n",
    "    - isNan\n",
    "    - isNull\n",
    "    - isUndefined"
   ]
  },
  {
   "cell_type": "markdown",
   "metadata": {},
   "source": [
    "- underscore.js는 기본 JavaScript 객체들을 확장하지 않고, 함수형 프로그래밍을 지원할 수 있는 함수를 가진 유용한 JavaScript 라이브러리다."
   ]
  }
 ],
 "metadata": {
  "kernelspec": {
   "display_name": "Python 3",
   "language": "python",
   "name": "python3"
  },
  "language_info": {
   "codemirror_mode": {
    "name": "ipython",
    "version": 3
   },
   "file_extension": ".py",
   "mimetype": "text/x-python",
   "name": "python",
   "nbconvert_exporter": "python",
   "pygments_lexer": "ipython3",
   "version": "3.6.6"
  }
 },
 "nbformat": 4,
 "nbformat_minor": 2
}
