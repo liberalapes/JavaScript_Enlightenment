{
 "cells": [
  {
   "cell_type": "markdown",
   "metadata": {},
   "source": [
    "# 자바스크립트를 깨우치다"
   ]
  },
  {
   "cell_type": "markdown",
   "metadata": {},
   "source": [
    "## Chapter 3. Object()"
   ]
  },
  {
   "cell_type": "markdown",
   "metadata": {},
   "source": [
    "### Object( ) 객체 사용"
   ]
  },
  {
   "cell_type": "markdown",
   "metadata": {},
   "source": [
    "- 내장 Object() 생성자 함수를 사용하면 범용 빈 객체를 바로 만들수 있다."
   ]
  },
  {
   "cell_type": "code",
   "execution_count": null,
   "metadata": {},
   "outputs": [],
   "source": [
    "var cody = new Object();\n",
    "\n",
    "for (key in cody) {\n",
    "  if(cody.hasOwnProperty(key)) {\n",
    "    console.log(key);\n",
    "  }\n",
    "};"
   ]
  },
  {
   "cell_type": "markdown",
   "metadata": {},
   "source": [
    "- Object() 생성자는 그 자체도 객체다.\n",
    "- Object() 생성자도 Function 생성자를 사용해 만들어진 객체이다.\n",
    "- Array 생성자처럼 Object 생성자도 빈 객체를 만들어낸다\n",
    "- Object() 생섲나를 사용해 빈 객체를 만든느 방법이나 Object() 생성자 함수와 같은 객체의 \"클래스\"를 만드는 법도 중요하다."
   ]
  },
  {
   "cell_type": "markdown",
   "metadata": {},
   "source": [
    "### Object( ) 매개 변수"
   ]
  },
  {
   "cell_type": "markdown",
   "metadata": {},
   "source": [
    "- Object() 생성자 함수는 한 개의 인수를 전달한다.\n",
    "- 이 매개변수는 만ㄴ들고자 하는 값을 전달하는데, 매개 변수가 없으면 null, undefune를 매개변수로 전달했다고 가정한다"
   ]
  },
  {
   "cell_type": "code",
   "execution_count": null,
   "metadata": {},
   "outputs": [],
   "source": [
    "var cody1 = new Object();\n",
    "var cody2 = new Object(undefined);\n",
    "var cody3 = new Object(null);\n",
    "\n",
    "console.log(cody1, cody2, cody3);\n",
    "console.log(typeof cody1, typeof cody2, typeof cody3);"
   ]
  },
  {
   "cell_type": "markdown",
   "metadata": {},
   "source": [
    "- Object() 생성자에 null, undefined 외의 값을 전달하여 객체를 만들수 있다."
   ]
  },
  {
   "cell_type": "code",
   "execution_count": null,
   "metadata": {},
   "outputs": [],
   "source": [
    "console.log(new Object('foo'));\n",
    "console.log(new Object(1));\n",
    "console.log(new Object([]));\n",
    "console.log(new Object(function() {}));\n",
    "console.log(new Object(true));\n",
    "console.log(new Object(/\\bt[a-z]+\\b/));"
   ]
  },
  {
   "cell_type": "markdown",
   "metadata": {},
   "source": [
    "### Object( )의 속성과 메소드"
   ]
  },
  {
   "cell_type": "code",
   "execution_count": null,
   "metadata": {},
   "outputs": [],
   "source": [
    "# 속성\n",
    "prototype"
   ]
  },
  {
   "cell_type": "markdown",
   "metadata": {},
   "source": [
    "### Object( ) 객체 인스턴스의 속성과 메소드"
   ]
  },
  {
   "cell_type": "code",
   "execution_count": null,
   "metadata": {},
   "outputs": [],
   "source": [
    "# 인스턴스 속성\n",
    "constructor"
   ]
  },
  {
   "cell_type": "code",
   "execution_count": null,
   "metadata": {},
   "outputs": [],
   "source": [
    "# 인스턴스 메소드\n",
    "var myObject = {};\n",
    "\n",
    "myObject.hasOwnProperty()\n",
    "myObject.isPrototypeOf()\n",
    "myObject.propertyIsEnumerable()\n",
    "myObject.toLocaleString()\n",
    "myObject.toString()\n",
    "myObject.valueOf()"
   ]
  },
  {
   "cell_type": "markdown",
   "metadata": {},
   "source": [
    "- 프로토타입은 체인은 Object.prototype에서 끝나므로 Object()의 모든 속성과 메소드는 모든 자바스크립트 객체에서 볼 수 있음."
   ]
  },
  {
   "cell_type": "markdown",
   "metadata": {},
   "source": [
    "### “객체 리터럴”을 사용한 Object( ) 객체 생성"
   ]
  },
  {
   "cell_type": "code",
   "execution_count": null,
   "metadata": {},
   "outputs": [],
   "source": [
    "<!DOCTYPE html>\n",
    "<html><meta charset = \"UTF-8\"><body><script>\n",
    "\n",
    "var cody = new Object();\n",
    "cody.living = true;\n",
    "cody.age = 33;\n",
    "cody.gender = 'male';\n",
    "cody.getGender = function() {return cody.gender;};\n",
    "\n",
    "console.log(cody);\n",
    "\n",
    "</script></body></html>"
   ]
  },
  {
   "cell_type": "markdown",
   "metadata": {},
   "source": [
    "- cody 객체를 만들고 속성을 추가"
   ]
  },
  {
   "cell_type": "code",
   "execution_count": null,
   "metadata": {},
   "outputs": [],
   "source": [
    "<!DOCTYPE html>\n",
    "<html><meta charset = \"UTF-8\"><body><script>\n",
    "\n",
    "var cody = {\n",
    "  living: true,\n",
    "  age: 33,\n",
    "  gender: 'male',\n",
    "  getGender: function() {return cody.gender;}\n",
    "};\n",
    "\n",
    "console.log(cody);\n",
    "\n",
    "</script></body></html>"
   ]
  },
  {
   "cell_type": "code",
   "execution_count": null,
   "metadata": {},
   "outputs": [],
   "source": [
    "<!DOCTYPE html>\n",
    "<html><meta charset = \"UTF-8\"><body><script>\n",
    "\n",
    "var cody = {\n",
    "  'living':true,\n",
    "  'age':23,\n",
    "  'gender':'male',\n",
    "  'getGender': function() {return cody.gender;}\n",
    "}\n",
    "\n",
    "console.log(cody);\n",
    "\n",
    "</script></body></html>"
   ]
  },
  {
   "cell_type": "markdown",
   "metadata": {},
   "source": [
    "속성 이름이 다음 중 하나에 해당하면, 반드시 속성 이름을 문자열로 설정해야 한다.\n",
    "\n",
    "- 예약어인 경우(예: class)\n",
    "- 공백이나 특수 문자(숫자, 글자, 달러 기호($), 언더스코어(_) 외의 무자)를 포함한 경우\n",
    "- 숫자로 시작하는 경우"
   ]
  },
  {
   "cell_type": "markdown",
   "metadata": {},
   "source": [
    "- 객체의 마지막 속성에는 쉼표를 붙이지 않는다.\n",
    "- 쉼표를 붙이면 IE 구식 버전과 같은 일부 자바스크립트 환경에서는 오류가 발생할 수 있다."
   ]
  },
  {
   "cell_type": "markdown",
   "metadata": {},
   "source": [
    "### 모든 객체는 Object.prototype을 상속받는다"
   ]
  },
  {
   "cell_type": "code",
   "execution_count": null,
   "metadata": {},
   "outputs": [],
   "source": [
    "<!DOCTYPE html>\n",
    "<html><meta charset = \"UTF-8\"><body><script>\n",
    "\n",
    "Object.prototype.foo = 'foo';\n",
    "var myString = 'bar';\n",
    "\n",
    "// 'foo'가 기록된다. 이 값은 프로토타입 체인을 통해 object.prototype.foo 에서 가져왔다.\n",
    "console.log(myString.foo);\n",
    "\n",
    "</script></body></html>"
   ]
  },
  {
   "cell_type": "markdown",
   "metadata": {},
   "source": [
    "- Object.prototype에 추가한 것은 for in 루프와 프로토타입 체인에서 볼 수 있으니 주의가 필요하다.\n",
    "- 이런 이유 때문에 Object.prototype 은 수정할 수 없어야 한다."
   ]
  }
 ],
 "metadata": {
  "kernelspec": {
   "display_name": "Python 3",
   "language": "python",
   "name": "python3"
  },
  "language_info": {
   "codemirror_mode": {
    "name": "ipython",
    "version": 3
   },
   "file_extension": ".py",
   "mimetype": "text/x-python",
   "name": "python",
   "nbconvert_exporter": "python",
   "pygments_lexer": "ipython3",
   "version": "3.6.6"
  }
 },
 "nbformat": 4,
 "nbformat_minor": 2
}
